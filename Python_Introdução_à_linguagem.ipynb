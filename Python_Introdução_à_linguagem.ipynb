{
  "nbformat": 4,
  "nbformat_minor": 0,
  "metadata": {
    "colab": {
      "provenance": [],
      "collapsed_sections": [
        "CT7IkvD-HG_i",
        "gB8NA-sMHkJK",
        "G9gbaICZlsbJ"
      ],
      "authorship_tag": "ABX9TyNSgHgsTC69OPq/wHI5ksVv",
      "include_colab_link": true
    },
    "kernelspec": {
      "name": "python3",
      "display_name": "Python 3"
    },
    "language_info": {
      "name": "python"
    }
  },
  "cells": [
    {
      "cell_type": "markdown",
      "metadata": {
        "id": "view-in-github",
        "colab_type": "text"
      },
      "source": [
        "<a href=\"https://colab.research.google.com/github/emanoellavaldevino/python/blob/main/Python_Introdu%C3%A7%C3%A3o_%C3%A0_linguagem.ipynb\" target=\"_parent\"><img src=\"https://colab.research.google.com/assets/colab-badge.svg\" alt=\"Open In Colab\"/></a>"
      ]
    },
    {
      "cell_type": "markdown",
      "source": [
        "**Correção de Exercícios 1**"
      ],
      "metadata": {
        "id": "e2nTymiO2sTp"
      }
    },
    {
      "cell_type": "markdown",
      "source": [
        "# Aula 1: Introdução a linguagem"
      ],
      "metadata": {
        "id": "CT7IkvD-HG_i"
      }
    },
    {
      "cell_type": "code",
      "source": [
        "'''\n",
        "Nomes dos animais, quantidade de animais, peso dos animais e se são vacinados\n",
        "'''\n",
        "\n",
        "nome1 = \"Antônia\"\n",
        "nome2 = \"Betânia\"\n",
        "nome3 = \"Kiara\"\n",
        "\n",
        "quantidade = 3\n",
        "\n",
        "peso1 = 3.90\n",
        "peso2 = 20.50\n",
        "peso3 = 5.25\n",
        "\n",
        "#Situacao se os animais foram vacinados\n",
        "\n",
        "vacinado1 = False\n",
        "vacinado2 = False\n",
        "vacinado3 = True\n",
        "\n",
        "print(\"Nome do primeiro animal é:\" , nome1,\"\\nEla pesa: \" , peso1, \"\\nEla foi vacinada? \" , vacinado1)\n",
        "\n",
        "print(\"Nome do primeiro animal é:\" , nome2,\"\\nEla pesa: \" , peso2, \"\\nEla foi vacinada? \" , vacinado2)\n",
        "\n",
        "print(\"Nome do primeiro animal é:\" , nome3,\"\\nEla pesa: \" , peso3, \"\\nEla foi vacinada? \" , vacinado3)\n"
      ],
      "metadata": {
        "colab": {
          "base_uri": "https://localhost:8080/"
        },
        "id": "ukn0eyXD-MyO",
        "outputId": "8d494d7d-8d4d-4b46-a528-42dc490454d2"
      },
      "execution_count": null,
      "outputs": [
        {
          "output_type": "stream",
          "name": "stdout",
          "text": [
            "Nome do primeiro animal é: Antônia \n",
            "Ela pesa:  3.9 \n",
            "Ela foi vacinada?  False\n",
            "Nome do primeiro animal é: Betânia \n",
            "Ela pesa:  20.5 \n",
            "Ela foi vacinada?  False\n",
            "Nome do primeiro animal é: Kiara \n",
            "Ela pesa:  5.25 \n",
            "Ela foi vacinada?  True\n"
          ]
        }
      ]
    },
    {
      "cell_type": "code",
      "source": [
        "print(\"Hello Wordl!\")"
      ],
      "metadata": {
        "colab": {
          "base_uri": "https://localhost:8080/"
        },
        "id": "oLIcukMgF3XO",
        "outputId": "a07fdea7-be4e-41b9-f49b-f0b5b44ca196"
      },
      "execution_count": null,
      "outputs": [
        {
          "output_type": "stream",
          "name": "stdout",
          "text": [
            "Hello Wordl!\n"
          ]
        }
      ]
    },
    {
      "cell_type": "markdown",
      "source": [
        "# Aula 2: Manipução de dados\n"
      ],
      "metadata": {
        "id": "gB8NA-sMHkJK"
      }
    },
    {
      "cell_type": "markdown",
      "source": [
        "Saída de **dados**\n"
      ],
      "metadata": {
        "id": "vTOfxI1NHvRP"
      }
    },
    {
      "cell_type": "code",
      "source": [
        "nome = \"Emanoella\"\n",
        "idade = 35\n",
        "peso = 57.5\n",
        "\n",
        "print(\"Meu nome é:\",nome, \"\\nEu tenho:\", idade,\"\\nEu peso:\",peso,\".\")"
      ],
      "metadata": {
        "colab": {
          "base_uri": "https://localhost:8080/"
        },
        "id": "aougm9uUH5U4",
        "outputId": "2f3084ed-4f3e-4a5a-8569-e75261bcdfd7"
      },
      "execution_count": null,
      "outputs": [
        {
          "output_type": "stream",
          "name": "stdout",
          "text": [
            "Meu nome é: Emanoella \n",
            "Eu tenho: 35 \n",
            "Eu peso: 57.5 .\n"
          ]
        }
      ]
    },
    {
      "cell_type": "code",
      "source": [
        "print('22','01','1088', sep='/')"
      ],
      "metadata": {
        "colab": {
          "base_uri": "https://localhost:8080/"
        },
        "id": "QADtXZ7HMBU9",
        "outputId": "151ff174-16c9-429a-b0ff-5fdfc524684b"
      },
      "execution_count": null,
      "outputs": [
        {
          "output_type": "stream",
          "name": "stdout",
          "text": [
            "22/01/1088\n"
          ]
        }
      ]
    },
    {
      "cell_type": "code",
      "source": [
        "print('B', 'n', 'n', '.', sep='a')"
      ],
      "metadata": {
        "colab": {
          "base_uri": "https://localhost:8080/"
        },
        "id": "T08nBl0kMnv8",
        "outputId": "7290d2ab-d860-4ae3-8a35-f7ca6ccdbcb2"
      },
      "execution_count": null,
      "outputs": [
        {
          "output_type": "stream",
          "name": "stdout",
          "text": [
            "Banana.\n"
          ]
        }
      ]
    },
    {
      "cell_type": "markdown",
      "source": [
        "Entrada de **Dados**"
      ],
      "metadata": {
        "id": "hC6_bXv6NMpw"
      }
    },
    {
      "cell_type": "code",
      "source": [
        "nome = input(\"Escreva seu nome: \") #Tipo String\n",
        "idade = int(input(\"Digite sua idade: \")) #inteiro\n",
        "peso = float(input(\"Digite seu peso: \")) #Float"
      ],
      "metadata": {
        "colab": {
          "base_uri": "https://localhost:8080/"
        },
        "id": "BsvDUnI8NQsq",
        "outputId": "2b1910ba-660c-484b-8021-1e93c75cf8e1"
      },
      "execution_count": null,
      "outputs": [
        {
          "name": "stdout",
          "output_type": "stream",
          "text": [
            "Escreva seu nome: Ema\n",
            "Digite sua idade: 35\n",
            "Digite seu peso: 57.5\n"
          ]
        }
      ]
    },
    {
      "cell_type": "markdown",
      "source": [
        "Operadores Aritméticos"
      ],
      "metadata": {
        "id": "8zizY5wyilvB"
      }
    },
    {
      "cell_type": "code",
      "source": [
        "a = 4\n",
        "b = 4\n",
        "\n",
        "print(a + b) #Soma\n",
        "print(a - b) #Subtração\n",
        "print(10 / 6) #Divisão\n",
        "print(4 * 2) #Multiplicação\n",
        "print(4 // 6) #Divisão Exata\n",
        "print(4 % 6) #Resto de Divisão\n"
      ],
      "metadata": {
        "colab": {
          "base_uri": "https://localhost:8080/"
        },
        "id": "_QW3b9zpirZM",
        "outputId": "7ba3c424-3501-4f53-f8bf-37918466a7d1"
      },
      "execution_count": null,
      "outputs": [
        {
          "output_type": "stream",
          "name": "stdout",
          "text": [
            "8\n",
            "0\n",
            "1.6666666666666667\n",
            "8\n",
            "0\n",
            "4\n"
          ]
        }
      ]
    },
    {
      "cell_type": "markdown",
      "source": [
        "Prática Proposta - Aula 02"
      ],
      "metadata": {
        "id": "JaUqGrcvjmNz"
      }
    },
    {
      "cell_type": "code",
      "source": [
        "nome = input(\"Qual é o seu nome? \")\n",
        "altura = float(input(\"Qual é a sua altura? \"))\n",
        "cpf = int(input(\"Qual é o seu cpf? \"))\n",
        "\n",
        "print(\"O seu nome é\",nome, \". sua altura é: \",altura,\". seu cpf é:\",cpf)"
      ],
      "metadata": {
        "colab": {
          "base_uri": "https://localhost:8080/"
        },
        "id": "1eGSPT2GjpcH",
        "outputId": "549c2be2-22f4-4faf-c87f-1c3f8248c160"
      },
      "execution_count": null,
      "outputs": [
        {
          "output_type": "stream",
          "name": "stdout",
          "text": [
            "Qual é o seu nome? Ema\n",
            "Qual é a sua altura? 1.53\n",
            "Qual é o seu cpf? 9922212332\n",
            "O seu nome é Ema . sua altura é:  1.53 . seu cpf é: 9922212332\n"
          ]
        }
      ]
    },
    {
      "cell_type": "markdown",
      "source": [
        "# Aula 3: Estrutura de condições"
      ],
      "metadata": {
        "id": "G9gbaICZlsbJ"
      }
    },
    {
      "cell_type": "markdown",
      "source": [
        "Operadores de relação e condição"
      ],
      "metadata": {
        "id": "CJmm4UIAl3Ug"
      }
    },
    {
      "cell_type": "code",
      "source": [
        "#Operadores de igualdade\n",
        "#==, !=\n",
        "\n",
        "#Operadores de condição\n",
        "#>, <, >=, <="
      ],
      "metadata": {
        "id": "wC87UHW3l2i7"
      },
      "execution_count": null,
      "outputs": []
    },
    {
      "cell_type": "markdown",
      "source": [
        "Comando IF ELSE ELIF"
      ],
      "metadata": {
        "id": "YYxVxq69vJzD"
      }
    },
    {
      "cell_type": "code",
      "source": [
        "numero = 10\n",
        "\n",
        "if numero == 10:   #True\n",
        "  print(\"O número é igual a 10\")\n",
        "\n",
        "else:   #False\n",
        "  print(\"O número não é igual a 10\")"
      ],
      "metadata": {
        "colab": {
          "base_uri": "https://localhost:8080/"
        },
        "id": "Ziok4xcVvL-I",
        "outputId": "2fe8cd1e-9111-4c97-8317-7085c681a6fc"
      },
      "execution_count": null,
      "outputs": [
        {
          "output_type": "stream",
          "name": "stdout",
          "text": [
            "O número é igual a 10\n"
          ]
        }
      ]
    },
    {
      "cell_type": "code",
      "source": [
        "#ELIF\n",
        "\n",
        "numero = 15\n",
        "\n",
        "if numero == 11:\n",
        "  print(\"O número é igual a 11!\")\n",
        "elif numero == 12:\n",
        "  print(\"O número é igual a 12!\")\n",
        "elif numero == 13:\n",
        "  print(\"O número é igual a 13!\")\n",
        "else:\n",
        "  print(\"Esse número não é igual a 11, 12 e nem a 13!\")"
      ],
      "metadata": {
        "colab": {
          "base_uri": "https://localhost:8080/"
        },
        "id": "rbMgNQD4wzzg",
        "outputId": "42f2831f-5b6a-45b6-83d1-4d6afed21589"
      },
      "execution_count": null,
      "outputs": [
        {
          "output_type": "stream",
          "name": "stdout",
          "text": [
            "Esse número não é igual a 11, 12 e nem a 13!\n"
          ]
        }
      ]
    },
    {
      "cell_type": "markdown",
      "source": [
        "Prática Proposta - Aula 03"
      ],
      "metadata": {
        "id": "yENuG_auyrxz"
      }
    },
    {
      "cell_type": "code",
      "source": [
        "numero = -1\n",
        "\n",
        "if numero == 15:\n",
        " print(\"O número é igual que 15!\")\n",
        "\n",
        "elif numero > 15:\n",
        "  print(\"O número é maior que 15!\")\n",
        "\n",
        "else:\n",
        "  print(\"O número é menor que 15\")"
      ],
      "metadata": {
        "colab": {
          "base_uri": "https://localhost:8080/"
        },
        "id": "ILrTb8cOy1Ho",
        "outputId": "c27c7c38-bd26-4fe4-bfb2-2ae1803a66a4"
      },
      "execution_count": null,
      "outputs": [
        {
          "output_type": "stream",
          "name": "stdout",
          "text": [
            "O número é menor que 15\n"
          ]
        }
      ]
    },
    {
      "cell_type": "markdown",
      "source": [
        "# Aula 4: Estrutura de controle de fluxo"
      ],
      "metadata": {
        "id": "ZS2nSVTZ2jtx"
      }
    },
    {
      "cell_type": "markdown",
      "source": [
        "Laço While\n"
      ],
      "metadata": {
        "id": "eFXrCjV12sha"
      }
    },
    {
      "cell_type": "code",
      "source": [
        "i = 0\n",
        "\n",
        "while(i<=10):\n",
        "  print(\"O loop está funcionando...\")\n",
        "  i+=1"
      ],
      "metadata": {
        "colab": {
          "base_uri": "https://localhost:8080/"
        },
        "id": "dRghh2N62w_f",
        "outputId": "51bd838b-206a-4f0f-b2d0-a8d21b969377"
      },
      "execution_count": null,
      "outputs": [
        {
          "output_type": "stream",
          "name": "stdout",
          "text": [
            "O loop está funcionando...\n",
            "O loop está funcionando...\n",
            "O loop está funcionando...\n",
            "O loop está funcionando...\n",
            "O loop está funcionando...\n",
            "O loop está funcionando...\n",
            "O loop está funcionando...\n",
            "O loop está funcionando...\n",
            "O loop está funcionando...\n",
            "O loop está funcionando...\n",
            "O loop está funcionando...\n"
          ]
        }
      ]
    },
    {
      "cell_type": "markdown",
      "source": [
        "Laço de repetição FOR\n"
      ],
      "metadata": {
        "id": "unDX6vZU67Ib"
      }
    },
    {
      "cell_type": "code",
      "source": [
        "for i in \"Python\":\n",
        "  print(i)\n"
      ],
      "metadata": {
        "colab": {
          "base_uri": "https://localhost:8080/"
        },
        "id": "yixOf7b073th",
        "outputId": "d6f4789c-1a84-4f1c-c8c5-bd783ac1d354"
      },
      "execution_count": null,
      "outputs": [
        {
          "output_type": "stream",
          "name": "stdout",
          "text": [
            "P\n",
            "y\n",
            "t\n",
            "h\n",
            "o\n",
            "n\n"
          ]
        }
      ]
    },
    {
      "cell_type": "code",
      "source": [
        "num = [1,2,3,4]\n",
        "for e in num:\n",
        "  print(e)"
      ],
      "metadata": {
        "colab": {
          "base_uri": "https://localhost:8080/"
        },
        "id": "bDXMo1rbC_FR",
        "outputId": "4e16d986-8e33-41ce-b63a-21840ca6c0aa"
      },
      "execution_count": null,
      "outputs": [
        {
          "output_type": "stream",
          "name": "stdout",
          "text": [
            "1\n",
            "2\n",
            "3\n",
            "4\n"
          ]
        }
      ]
    },
    {
      "cell_type": "markdown",
      "source": [
        "FOR RANGE"
      ],
      "metadata": {
        "id": "pgfr3WxuEacf"
      }
    },
    {
      "cell_type": "code",
      "source": [
        "for i in range(10):\n",
        "  print(i)"
      ],
      "metadata": {
        "colab": {
          "base_uri": "https://localhost:8080/"
        },
        "id": "bv0rykgQEcO0",
        "outputId": "d6bc5abd-2c42-499a-b3dc-a5706d39abff"
      },
      "execution_count": null,
      "outputs": [
        {
          "output_type": "stream",
          "name": "stdout",
          "text": [
            "0\n",
            "1\n",
            "2\n",
            "3\n",
            "4\n",
            "5\n",
            "6\n",
            "7\n",
            "8\n",
            "9\n"
          ]
        }
      ]
    },
    {
      "cell_type": "code",
      "source": [
        "for e in range(9, -1, -1):\n",
        "  print(e)"
      ],
      "metadata": {
        "colab": {
          "base_uri": "https://localhost:8080/"
        },
        "id": "Naq2mweGE8ku",
        "outputId": "dfb4b3d6-7ccd-406a-c77e-d50808f29d74"
      },
      "execution_count": null,
      "outputs": [
        {
          "output_type": "stream",
          "name": "stdout",
          "text": [
            "9\n",
            "8\n",
            "7\n",
            "6\n",
            "5\n",
            "4\n",
            "3\n",
            "2\n",
            "1\n",
            "0\n"
          ]
        }
      ]
    },
    {
      "cell_type": "markdown",
      "source": [
        "Prática Proposta - Aula 04"
      ],
      "metadata": {
        "id": "rtRoC_MuFSMT"
      }
    },
    {
      "cell_type": "code",
      "source": [
        "for i in range(0, 18, 3):\n",
        "  print(i)"
      ],
      "metadata": {
        "colab": {
          "base_uri": "https://localhost:8080/"
        },
        "id": "gq4S-LftFTQV",
        "outputId": "336be22e-66c5-4f40-8c16-880bb5aef19d"
      },
      "execution_count": null,
      "outputs": [
        {
          "output_type": "stream",
          "name": "stdout",
          "text": [
            "0\n",
            "3\n",
            "6\n",
            "9\n",
            "12\n",
            "15\n"
          ]
        }
      ]
    },
    {
      "cell_type": "markdown",
      "source": [
        "Break\n"
      ],
      "metadata": {
        "id": "bS0J1IYyLDH5"
      }
    },
    {
      "cell_type": "code",
      "source": [
        "for i in range(10):\n",
        "  print(i)\n",
        "  if (i ==5):\n",
        "    break"
      ],
      "metadata": {
        "colab": {
          "base_uri": "https://localhost:8080/"
        },
        "id": "bikze2QrLFFz",
        "outputId": "3354aece-b403-4be2-fc11-cb8963ce87e4"
      },
      "execution_count": null,
      "outputs": [
        {
          "output_type": "stream",
          "name": "stdout",
          "text": [
            "0\n",
            "1\n",
            "2\n",
            "3\n",
            "4\n",
            "5\n"
          ]
        }
      ]
    },
    {
      "cell_type": "code",
      "source": [
        "i = 0\n",
        "while (i<10):\n",
        "  i+=1\n",
        "  if (i%2==0):\n",
        "   continue\n",
        "  print(i)"
      ],
      "metadata": {
        "colab": {
          "base_uri": "https://localhost:8080/"
        },
        "id": "do8czo1-MVba",
        "outputId": "13869628-918d-4745-8107-1127187d08f8"
      },
      "execution_count": null,
      "outputs": [
        {
          "output_type": "stream",
          "name": "stdout",
          "text": [
            "1\n",
            "3\n",
            "5\n",
            "7\n",
            "9\n"
          ]
        }
      ]
    },
    {
      "cell_type": "markdown",
      "source": [
        "# Aula 5: Strings e Aula 6:Estruturas em Lista"
      ],
      "metadata": {
        "id": "bAMPQR70omlr"
      }
    },
    {
      "cell_type": "markdown",
      "source": [
        "Introdução a String"
      ],
      "metadata": {
        "id": "eUQa9Ulwosd8"
      }
    },
    {
      "cell_type": "code",
      "source": [
        "nome = \"Ema\"\n",
        "nome1 = 'Ema'\n",
        "nome2 = '''\n",
        "Essa é uma string longa\n",
        "contendo informações python.\n",
        "'''\n",
        "nome3 = \"\"\"\n",
        "Essa é uma string longa contendo informações\n",
        "python.\"\"\"\n",
        "\n",
        "print(nome)\n",
        "print(nome1)\n",
        "print(nome2)\n",
        "print(nome3)"
      ],
      "metadata": {
        "colab": {
          "base_uri": "https://localhost:8080/"
        },
        "id": "onN_T_lEow8m",
        "outputId": "8817e611-6476-43ae-9fd1-641ef2e8c3f0"
      },
      "execution_count": null,
      "outputs": [
        {
          "output_type": "stream",
          "name": "stdout",
          "text": [
            "Ema\n",
            "Ema\n",
            "\n",
            "Essa é uma string longa\n",
            "contendo informações python.\n",
            "\n",
            "\n",
            "Essa é uma string longa contendo informações \n",
            "python.\n"
          ]
        }
      ]
    },
    {
      "cell_type": "markdown",
      "source": [
        "Propriedade das String\n"
      ],
      "metadata": {
        "id": "jJegT9S2pzne"
      }
    },
    {
      "cell_type": "code",
      "source": [
        "nome = 'Emanoella A. V'\n",
        "data = '29/01/2023'\n",
        "\n",
        "#tamanho da String\n",
        "tamanho = len(nome)\n",
        "print(tamanho)\n",
        "\n",
        "#split da string\n",
        "lista = nome.split(\" \")\n",
        "print(lista)\n",
        "\n",
        "lista = data.split(\"/\")\n",
        "print(lista)\n",
        "\n",
        "#Substituição\n",
        "print(nome.replace(\"A.\", \"*\"))\n",
        "print(data.replace(\"29/01\", \"****\"))\n",
        "\n",
        "\n"
      ],
      "metadata": {
        "colab": {
          "base_uri": "https://localhost:8080/"
        },
        "id": "FN3dHBmFp10k",
        "outputId": "86fe59fa-9051-48e7-cb34-d5a401ae18d3"
      },
      "execution_count": null,
      "outputs": [
        {
          "output_type": "stream",
          "name": "stdout",
          "text": [
            "14\n",
            "['Emanoella', 'A.', 'V']\n",
            "['29', '01', '2023']\n",
            "Emanoella * V\n",
            "****/2023\n"
          ]
        }
      ]
    },
    {
      "cell_type": "markdown",
      "source": [
        "Fatiando Strings"
      ],
      "metadata": {
        "id": "63U2CZqywagP"
      }
    },
    {
      "cell_type": "code",
      "source": [
        "#       012345\n",
        "#  6-5-4-3-2-1\n",
        "nome = 'python'\n",
        "nova_string = nome[3]\n",
        "print(nova_string)\n"
      ],
      "metadata": {
        "colab": {
          "base_uri": "https://localhost:8080/"
        },
        "id": "_IFrauA9wc78",
        "outputId": "cf02e7b3-9cdf-4172-f328-6a4d3d58474f"
      },
      "execution_count": null,
      "outputs": [
        {
          "output_type": "stream",
          "name": "stdout",
          "text": [
            "h\n"
          ]
        }
      ]
    },
    {
      "cell_type": "markdown",
      "source": [
        "Comparando Strings"
      ],
      "metadata": {
        "id": "F9FqiCdVyYRS"
      }
    },
    {
      "cell_type": "code",
      "source": [
        "print(\"a\" == \"b\")\n",
        "print(\"a\" > \"b\")\n",
        "print(\"a\" > \"1\")\n",
        "print('a' == 'a')"
      ],
      "metadata": {
        "colab": {
          "base_uri": "https://localhost:8080/"
        },
        "id": "IY8tEBNjyb5d",
        "outputId": "abef3401-a92d-487c-d000-763baa4eae7c"
      },
      "execution_count": null,
      "outputs": [
        {
          "output_type": "stream",
          "name": "stdout",
          "text": [
            "False\n",
            "False\n",
            "True\n",
            "True\n"
          ]
        }
      ]
    },
    {
      "cell_type": "code",
      "source": [
        "#for\n",
        "nome = 'python'\n",
        "for i in nome:\n",
        "  print(i)\n",
        "\n",
        "print(\"----\")\n",
        "#while\n",
        "i = 0\n",
        "while i < len(nome):\n",
        "  print(nome[i])\n",
        "  i+=1\n",
        "\n",
        "print(\"-----\")\n",
        "for k, v in enumerate(nome):\n",
        "  print(k, v)\n"
      ],
      "metadata": {
        "colab": {
          "base_uri": "https://localhost:8080/"
        },
        "id": "W7XWsnty1Z0v",
        "outputId": "293a4eb4-3ccc-47cf-c6fa-a2a565be8447"
      },
      "execution_count": null,
      "outputs": [
        {
          "output_type": "stream",
          "name": "stdout",
          "text": [
            "p\n",
            "y\n",
            "t\n",
            "h\n",
            "o\n",
            "n\n",
            "----\n",
            "p\n",
            "y\n",
            "t\n",
            "h\n",
            "o\n",
            "n\n",
            "-----\n",
            "0 p\n",
            "1 y\n",
            "2 t\n",
            "3 h\n",
            "4 o\n",
            "5 n\n"
          ]
        }
      ]
    },
    {
      "cell_type": "markdown",
      "source": [
        "Prática Proposta - Aula 05"
      ],
      "metadata": {
        "id": "s7JSlZ3v3u7J"
      }
    },
    {
      "cell_type": "code",
      "source": [
        "alfabeto = \"A B C D E F G H I J K L M N O P Q R S T U V X Z\"\n",
        "#Percorra e imprima essa string com enumerate\n",
        "\n",
        "for k, v in enumerate(alfabeto):\n",
        " print(k, v)\n",
        "\n",
        " print(alfabeto.replace(\" \", \"-\"))"
      ],
      "metadata": {
        "colab": {
          "base_uri": "https://localhost:8080/"
        },
        "id": "1vOTN_xd3vuN",
        "outputId": "33d66f5a-889a-4e94-efbd-def5a9494b9f"
      },
      "execution_count": null,
      "outputs": [
        {
          "output_type": "stream",
          "name": "stdout",
          "text": [
            "0 A\n",
            "A-B-C-D-E-F-G-H-I-J-K-L-M-N-O-P-Q-R-S-T-U-V-X-Z\n",
            "1  \n",
            "A-B-C-D-E-F-G-H-I-J-K-L-M-N-O-P-Q-R-S-T-U-V-X-Z\n",
            "2 B\n",
            "A-B-C-D-E-F-G-H-I-J-K-L-M-N-O-P-Q-R-S-T-U-V-X-Z\n",
            "3  \n",
            "A-B-C-D-E-F-G-H-I-J-K-L-M-N-O-P-Q-R-S-T-U-V-X-Z\n",
            "4 C\n",
            "A-B-C-D-E-F-G-H-I-J-K-L-M-N-O-P-Q-R-S-T-U-V-X-Z\n",
            "5  \n",
            "A-B-C-D-E-F-G-H-I-J-K-L-M-N-O-P-Q-R-S-T-U-V-X-Z\n",
            "6 D\n",
            "A-B-C-D-E-F-G-H-I-J-K-L-M-N-O-P-Q-R-S-T-U-V-X-Z\n",
            "7  \n",
            "A-B-C-D-E-F-G-H-I-J-K-L-M-N-O-P-Q-R-S-T-U-V-X-Z\n",
            "8 E\n",
            "A-B-C-D-E-F-G-H-I-J-K-L-M-N-O-P-Q-R-S-T-U-V-X-Z\n",
            "9  \n",
            "A-B-C-D-E-F-G-H-I-J-K-L-M-N-O-P-Q-R-S-T-U-V-X-Z\n",
            "10 F\n",
            "A-B-C-D-E-F-G-H-I-J-K-L-M-N-O-P-Q-R-S-T-U-V-X-Z\n",
            "11  \n",
            "A-B-C-D-E-F-G-H-I-J-K-L-M-N-O-P-Q-R-S-T-U-V-X-Z\n",
            "12 G\n",
            "A-B-C-D-E-F-G-H-I-J-K-L-M-N-O-P-Q-R-S-T-U-V-X-Z\n",
            "13  \n",
            "A-B-C-D-E-F-G-H-I-J-K-L-M-N-O-P-Q-R-S-T-U-V-X-Z\n",
            "14 H\n",
            "A-B-C-D-E-F-G-H-I-J-K-L-M-N-O-P-Q-R-S-T-U-V-X-Z\n",
            "15  \n",
            "A-B-C-D-E-F-G-H-I-J-K-L-M-N-O-P-Q-R-S-T-U-V-X-Z\n",
            "16 I\n",
            "A-B-C-D-E-F-G-H-I-J-K-L-M-N-O-P-Q-R-S-T-U-V-X-Z\n",
            "17  \n",
            "A-B-C-D-E-F-G-H-I-J-K-L-M-N-O-P-Q-R-S-T-U-V-X-Z\n",
            "18 J\n",
            "A-B-C-D-E-F-G-H-I-J-K-L-M-N-O-P-Q-R-S-T-U-V-X-Z\n",
            "19  \n",
            "A-B-C-D-E-F-G-H-I-J-K-L-M-N-O-P-Q-R-S-T-U-V-X-Z\n",
            "20 K\n",
            "A-B-C-D-E-F-G-H-I-J-K-L-M-N-O-P-Q-R-S-T-U-V-X-Z\n",
            "21  \n",
            "A-B-C-D-E-F-G-H-I-J-K-L-M-N-O-P-Q-R-S-T-U-V-X-Z\n",
            "22 L\n",
            "A-B-C-D-E-F-G-H-I-J-K-L-M-N-O-P-Q-R-S-T-U-V-X-Z\n",
            "23  \n",
            "A-B-C-D-E-F-G-H-I-J-K-L-M-N-O-P-Q-R-S-T-U-V-X-Z\n",
            "24 M\n",
            "A-B-C-D-E-F-G-H-I-J-K-L-M-N-O-P-Q-R-S-T-U-V-X-Z\n",
            "25  \n",
            "A-B-C-D-E-F-G-H-I-J-K-L-M-N-O-P-Q-R-S-T-U-V-X-Z\n",
            "26 N\n",
            "A-B-C-D-E-F-G-H-I-J-K-L-M-N-O-P-Q-R-S-T-U-V-X-Z\n",
            "27  \n",
            "A-B-C-D-E-F-G-H-I-J-K-L-M-N-O-P-Q-R-S-T-U-V-X-Z\n",
            "28 O\n",
            "A-B-C-D-E-F-G-H-I-J-K-L-M-N-O-P-Q-R-S-T-U-V-X-Z\n",
            "29  \n",
            "A-B-C-D-E-F-G-H-I-J-K-L-M-N-O-P-Q-R-S-T-U-V-X-Z\n",
            "30 P\n",
            "A-B-C-D-E-F-G-H-I-J-K-L-M-N-O-P-Q-R-S-T-U-V-X-Z\n",
            "31  \n",
            "A-B-C-D-E-F-G-H-I-J-K-L-M-N-O-P-Q-R-S-T-U-V-X-Z\n",
            "32 Q\n",
            "A-B-C-D-E-F-G-H-I-J-K-L-M-N-O-P-Q-R-S-T-U-V-X-Z\n",
            "33  \n",
            "A-B-C-D-E-F-G-H-I-J-K-L-M-N-O-P-Q-R-S-T-U-V-X-Z\n",
            "34 R\n",
            "A-B-C-D-E-F-G-H-I-J-K-L-M-N-O-P-Q-R-S-T-U-V-X-Z\n",
            "35  \n",
            "A-B-C-D-E-F-G-H-I-J-K-L-M-N-O-P-Q-R-S-T-U-V-X-Z\n",
            "36 S\n",
            "A-B-C-D-E-F-G-H-I-J-K-L-M-N-O-P-Q-R-S-T-U-V-X-Z\n",
            "37  \n",
            "A-B-C-D-E-F-G-H-I-J-K-L-M-N-O-P-Q-R-S-T-U-V-X-Z\n",
            "38 T\n",
            "A-B-C-D-E-F-G-H-I-J-K-L-M-N-O-P-Q-R-S-T-U-V-X-Z\n",
            "39  \n",
            "A-B-C-D-E-F-G-H-I-J-K-L-M-N-O-P-Q-R-S-T-U-V-X-Z\n",
            "40 U\n",
            "A-B-C-D-E-F-G-H-I-J-K-L-M-N-O-P-Q-R-S-T-U-V-X-Z\n",
            "41  \n",
            "A-B-C-D-E-F-G-H-I-J-K-L-M-N-O-P-Q-R-S-T-U-V-X-Z\n",
            "42 V\n",
            "A-B-C-D-E-F-G-H-I-J-K-L-M-N-O-P-Q-R-S-T-U-V-X-Z\n",
            "43  \n",
            "A-B-C-D-E-F-G-H-I-J-K-L-M-N-O-P-Q-R-S-T-U-V-X-Z\n",
            "44 X\n",
            "A-B-C-D-E-F-G-H-I-J-K-L-M-N-O-P-Q-R-S-T-U-V-X-Z\n",
            "45  \n",
            "A-B-C-D-E-F-G-H-I-J-K-L-M-N-O-P-Q-R-S-T-U-V-X-Z\n",
            "46 Z\n",
            "A-B-C-D-E-F-G-H-I-J-K-L-M-N-O-P-Q-R-S-T-U-V-X-Z\n"
          ]
        }
      ]
    },
    {
      "cell_type": "markdown",
      "source": [
        "Aula 06:Estruturas de listas\n"
      ],
      "metadata": {
        "id": "0AQTUxv9sc0l"
      }
    },
    {
      "cell_type": "code",
      "source": [
        "nome = \"Python\"\n",
        "lista = [2, 3, 4, 5]\n",
        "lista2 = [2.3, 3.3, 4.0, 5.6]\n",
        "lista3 = ['nome', 2.2, 1]\n",
        "\n",
        "print(lista2[2])"
      ],
      "metadata": {
        "colab": {
          "base_uri": "https://localhost:8080/"
        },
        "id": "Pqlu_dg6sce5",
        "outputId": "c344d0f4-1739-403d-d764-b79cf27f8a9d"
      },
      "execution_count": null,
      "outputs": [
        {
          "output_type": "stream",
          "name": "stdout",
          "text": [
            "4.0\n"
          ]
        }
      ]
    },
    {
      "cell_type": "markdown",
      "source": [
        "Prática Proposta - Aula 06"
      ],
      "metadata": {
        "id": "jx6pDrAmxg3x"
      }
    },
    {
      "cell_type": "code",
      "source": [
        "        #0    1    2     3    4,  5\n",
        "lista = [\"P\", \"Y\", \"T\", \"H\", \"O\", \"N\"]\n",
        "\n",
        "novaLista = lista[3:6]\n",
        "print(novaLista)\n",
        "\n",
        "\n",
        "\n"
      ],
      "metadata": {
        "colab": {
          "base_uri": "https://localhost:8080/"
        },
        "id": "WVcVpHujxiVK",
        "outputId": "3f9af5f3-fef8-485e-bc3e-217d7df44ac6"
      },
      "execution_count": null,
      "outputs": [
        {
          "output_type": "stream",
          "name": "stdout",
          "text": [
            "['H', 'O', 'N']\n"
          ]
        }
      ]
    },
    {
      "cell_type": "markdown",
      "source": [
        "Incluir, alterar, deletar."
      ],
      "metadata": {
        "id": "bcny4n460Ha2"
      }
    },
    {
      "cell_type": "code",
      "source": [
        "animais = [\"Antônia\", \"Betânia\", \"Kiara\"]\n",
        "print(animais)\n",
        "\n",
        "animais.append(\"Lyon\") #incluindo\n",
        "print(animais)\n",
        "\n",
        "animais.insert(0, \"Gohan\") #adicionando e escolhendo posição\n",
        "print(animais)\n",
        "\n",
        "animais.pop(0) #remover por posição\n",
        "print(animais)\n",
        "\n",
        "animais.remove(\"Lyon\")\n",
        "print(animais)  #removendo pelo nome\n"
      ],
      "metadata": {
        "colab": {
          "base_uri": "https://localhost:8080/"
        },
        "id": "mxc26Ruc0J-j",
        "outputId": "5ebbb6b2-a8ab-4172-c6dd-410f732cd078"
      },
      "execution_count": null,
      "outputs": [
        {
          "output_type": "stream",
          "name": "stdout",
          "text": [
            "['Antônia', 'Betânia', 'Kiara']\n",
            "['Antônia', 'Betânia', 'Kiara', 'Lyon']\n",
            "['Gohan', 'Antônia', 'Betânia', 'Kiara', 'Lyon']\n",
            "['Antônia', 'Betânia', 'Kiara', 'Lyon']\n",
            "['Antônia', 'Betânia', 'Kiara']\n"
          ]
        }
      ]
    },
    {
      "cell_type": "markdown",
      "source": [
        "Prática Proposta - Aula 06"
      ],
      "metadata": {
        "id": "9dgGdP0E20Bi"
      }
    },
    {
      "cell_type": "code",
      "source": [
        "moveis = ['sofá', 'televisão', 'tapete', 'mesa']\n",
        "print(moveis)\n",
        "\n",
        "moveis.append('cadeira')\n",
        "print(moveis)\n",
        "\n",
        "moveis.pop(0)\n",
        "print(moveis)"
      ],
      "metadata": {
        "colab": {
          "base_uri": "https://localhost:8080/"
        },
        "id": "_XpiGHSu203K",
        "outputId": "a3c32c90-d7ad-4787-c78a-a56ac8004290"
      },
      "execution_count": null,
      "outputs": [
        {
          "output_type": "stream",
          "name": "stdout",
          "text": [
            "['sofá', 'televisão', 'tapete', 'mesa']\n",
            "['sofá', 'televisão', 'tapete', 'mesa', 'cadeira']\n",
            "['televisão', 'tapete', 'mesa', 'cadeira']\n"
          ]
        }
      ]
    },
    {
      "cell_type": "markdown",
      "source": [],
      "metadata": {
        "id": "aKAJQjSw4clu"
      }
    },
    {
      "cell_type": "markdown",
      "source": [
        "# Aula 7: Introdução a Tuplas"
      ],
      "metadata": {
        "id": "lM8H9mVU4G-k"
      }
    },
    {
      "cell_type": "markdown",
      "source": [
        "Operações Tuplas"
      ],
      "metadata": {
        "id": "jeVgpBgg6LVs"
      }
    },
    {
      "cell_type": "code",
      "source": [
        "elementos_tuplas = ('Maria', 'Luz', 'Ema', 'Liz', 'Vih', 'Maria')\n",
        "print('Rosa' in elementos_tuplas)\n",
        "#                 0        1    2      3      4       5\n",
        "nomesTuplas = ('Maria', 'Luz', 'Ema', 'Liz', 'Vih', 'Maria')\n",
        "print(nomesTuplas.count('Maria'))\n",
        "print(nomesTuplas.index('Luz'))\n"
      ],
      "metadata": {
        "colab": {
          "base_uri": "https://localhost:8080/"
        },
        "id": "EZ9uJjju4LPA",
        "outputId": "d196b1ed-17c7-40cf-f1fd-a76be7f96569"
      },
      "execution_count": null,
      "outputs": [
        {
          "output_type": "stream",
          "name": "stdout",
          "text": [
            "False\n",
            "2\n",
            "1\n"
          ]
        }
      ]
    },
    {
      "cell_type": "markdown",
      "source": [
        "# Aula 8: Estruturas de Dicionários"
      ],
      "metadata": {
        "id": "ml_5tqtT7vv8"
      }
    },
    {
      "cell_type": "markdown",
      "source": [
        "Introdução a dicionários\n"
      ],
      "metadata": {
        "id": "uSsrCNYH70K0"
      }
    },
    {
      "cell_type": "code",
      "source": [
        "dicionario = {\"letraA\": \"Ema\", \"letraB\": \"Luz\", \"letraC\": \"Lua\"}\n",
        "print(dicionario['letraA'])\n",
        "print(dicionario.get('letraD', 'Valor não encontrado!'))"
      ],
      "metadata": {
        "id": "fgIx6wYw76CS",
        "colab": {
          "base_uri": "https://localhost:8080/"
        },
        "outputId": "45b5931a-8b40-486f-ca9c-fbde0b4766af"
      },
      "execution_count": 4,
      "outputs": [
        {
          "output_type": "stream",
          "name": "stdout",
          "text": [
            "Ema\n",
            "Valor não encontrado!\n"
          ]
        }
      ]
    },
    {
      "cell_type": "code",
      "source": [
        "dicionario = {'a': 'Deusa', 'b': 'Rainha', 'c': 'Maravilhosa'}\n",
        "dicionario2 = {1:20, 1.3:33, 90.4:12}\n",
        "dicionario3 = {(10,20):['Python', 'Ema', 'Vidinha', 22]}\n",
        "print(dicionario3)\n",
        "print(type(dicionario3))\n",
        "print(dicionario['c'])\n",
        "\n"
      ],
      "metadata": {
        "colab": {
          "base_uri": "https://localhost:8080/"
        },
        "id": "NTISoiJ2Gvbo",
        "outputId": "8e9e0368-a75a-468a-9d8b-caca7c3c88ba"
      },
      "execution_count": 9,
      "outputs": [
        {
          "output_type": "stream",
          "name": "stdout",
          "text": [
            "{(10, 20): ['Python', 'Ema', 'Vidinha', 22]}\n",
            "<class 'dict'>\n",
            "Maravilhosa\n"
          ]
        }
      ]
    },
    {
      "cell_type": "code",
      "source": [
        "agenda = {31988223344:'MeuFechamento', 1288112288:'MeuRei', 9822447722:'Deusa'}\n",
        "print(agenda)\n",
        "del(agenda[1288112288])\n",
        "print(agenda)\n",
        "print(agenda.keys())\n",
        "print(agenda.values())\n",
        "print(agenda.popitem())\n",
        "print(agenda)"
      ],
      "metadata": {
        "colab": {
          "base_uri": "https://localhost:8080/"
        },
        "id": "LUV00NlpJFo2",
        "outputId": "81cbe258-bd62-4b85-f48e-b63f82701ea2"
      },
      "execution_count": 18,
      "outputs": [
        {
          "output_type": "stream",
          "name": "stdout",
          "text": [
            "{31988223344: 'MeuFechamento', 1288112288: 'MeuRei', 9822447722: 'Deusa'}\n",
            "{31988223344: 'MeuFechamento', 9822447722: 'Deusa'}\n",
            "dict_keys([31988223344, 9822447722])\n",
            "dict_values(['MeuFechamento', 'Deusa'])\n",
            "(9822447722, 'Deusa')\n",
            "{31988223344: 'MeuFechamento'}\n"
          ]
        }
      ]
    },
    {
      "cell_type": "markdown",
      "source": [
        "Prática Proposta - Aula 08"
      ],
      "metadata": {
        "id": "19QypHW_NzTO"
      }
    },
    {
      "cell_type": "code",
      "source": [
        "semana = {'dia1': 'domingo', 'dia2': 'segunda', 'dia3': 'terca', 'dia4': 'quarta', 'dia5': 'quinta', 'dia6': 'sexta'}\n",
        "print(semana)\n",
        "print(semana.popitem())\n",
        "print(semana.popitem())\n",
        "print(semana)\n",
        "del(semana['dia1'])\n",
        "print(semana)\n",
        "print(semana.values())\n",
        "print(semana.keys())\n",
        "print(semana)\n"
      ],
      "metadata": {
        "colab": {
          "base_uri": "https://localhost:8080/"
        },
        "id": "aH9PwW6UNz_c",
        "outputId": "49c2ecf2-87ae-4e1f-ad36-0d67f25e49c9"
      },
      "execution_count": 36,
      "outputs": [
        {
          "output_type": "stream",
          "name": "stdout",
          "text": [
            "{'dia1': 'domingo', 'dia2': 'segunda', 'dia3': 'terca', 'dia4': 'quarta', 'dia5': 'quinta', 'dia6': 'sexta'}\n",
            "('dia6', 'sexta')\n",
            "('dia5', 'quinta')\n",
            "{'dia1': 'domingo', 'dia2': 'segunda', 'dia3': 'terca', 'dia4': 'quarta'}\n",
            "{'dia2': 'segunda', 'dia3': 'terca', 'dia4': 'quarta'}\n",
            "dict_values(['segunda', 'terca', 'quarta'])\n",
            "dict_keys(['dia2', 'dia3', 'dia4'])\n",
            "{'dia2': 'segunda', 'dia3': 'terca', 'dia4': 'quarta'}\n"
          ]
        }
      ]
    },
    {
      "cell_type": "markdown",
      "source": [
        "# Aula 9: Funções"
      ],
      "metadata": {
        "id": "56fg4lDfat_B"
      }
    },
    {
      "cell_type": "markdown",
      "source": [
        "Introdução a função"
      ],
      "metadata": {
        "id": "mCuDHvuKa0NU"
      }
    },
    {
      "cell_type": "code",
      "source": [
        "def funcao():\n",
        "  print(\"Eu sou uma função!\")\n",
        "\n",
        "funcao()"
      ],
      "metadata": {
        "colab": {
          "base_uri": "https://localhost:8080/"
        },
        "id": "YVh2_-wza3XM",
        "outputId": "4c960696-c7f7-4cf0-e002-cd7b4d660b57"
      },
      "execution_count": 38,
      "outputs": [
        {
          "output_type": "stream",
          "name": "stdout",
          "text": [
            "Eu sou uma função!\n"
          ]
        }
      ]
    },
    {
      "cell_type": "markdown",
      "source": [
        "Parametros de uma função"
      ],
      "metadata": {
        "id": "X0ZoQKAPbdn0"
      }
    },
    {
      "cell_type": "code",
      "source": [
        "def soma(x, y):\n",
        "  total = x + y\n",
        "  print(total)\n",
        "\n",
        "soma(2,22)\n"
      ],
      "metadata": {
        "colab": {
          "base_uri": "https://localhost:8080/"
        },
        "id": "s8kH_cKfbfqO",
        "outputId": "8ed17882-5447-48ee-fd79-2b9c30c2c240"
      },
      "execution_count": 40,
      "outputs": [
        {
          "output_type": "stream",
          "name": "stdout",
          "text": [
            "24\n"
          ]
        }
      ]
    },
    {
      "cell_type": "code",
      "source": [
        "def multi(a, b):\n",
        "  return a * b\n",
        "\n",
        "print(multi(2,5))\n",
        "\n"
      ],
      "metadata": {
        "colab": {
          "base_uri": "https://localhost:8080/"
        },
        "id": "x-VA3LDyfchd",
        "outputId": "3fee374e-e4e5-45af-cced-309b1a6dcc9b"
      },
      "execution_count": 43,
      "outputs": [
        {
          "output_type": "stream",
          "name": "stdout",
          "text": [
            "10\n"
          ]
        }
      ]
    },
    {
      "cell_type": "markdown",
      "source": [
        "Prática Proposta - Aula 09"
      ],
      "metadata": {
        "id": "A3FO8wNhgOGZ"
      }
    },
    {
      "cell_type": "code",
      "source": [
        "def operacoes(a,b):\n",
        "  soma = a + b\n",
        "  sub = a - b\n",
        "  div = a / b\n",
        "  mult = a * b\n",
        "\n",
        "  print(\"A soma:\", soma)\n",
        "  print(\"A subtração:\", sub)\n",
        "  print(\"A divisão:\", div)\n",
        "  print(\"A multiplicação:\", mult)\n",
        "\n",
        "\n",
        "operacoes(2,4)"
      ],
      "metadata": {
        "colab": {
          "base_uri": "https://localhost:8080/"
        },
        "id": "gzAqrun2gOm4",
        "outputId": "4b9351be-5e32-4480-a958-a6dabc9bb199"
      },
      "execution_count": 48,
      "outputs": [
        {
          "output_type": "stream",
          "name": "stdout",
          "text": [
            "A soma: 6\n",
            "A subtração: -2\n",
            "A divisão: 0.5\n",
            "A multiplicação: 8\n"
          ]
        }
      ]
    },
    {
      "cell_type": "markdown",
      "source": [
        "Prática Proposta – Desafio Final"
      ],
      "metadata": {
        "id": "vtq0oHe3iiNP"
      }
    },
    {
      "cell_type": "code",
      "source": [
        "def somar(a, b):\n",
        "\n",
        "    return a + b\n",
        "\n",
        "\n",
        "\n",
        "def subtrair(a, b):\n",
        "\n",
        "    return a - b\n",
        "\n",
        "\n",
        "\n",
        "def dividir(a, b):\n",
        "\n",
        "    if b != 0:\n",
        "\n",
        "        return a / b\n",
        "\n",
        "    else:\n",
        "\n",
        "        return \"Erro: divisão por zero\"\n",
        "\n",
        "\n",
        "\n",
        "def multiplicar(a, b):\n",
        "\n",
        "    return a * b\n",
        "\n",
        "\n",
        "\n",
        "def listar():\n",
        "\n",
        "    vantagens = [\n",
        "\n",
        "        \"Sintaxe simples e legível\",\n",
        "\n",
        "        \"Ampla biblioteca padrão\",\n",
        "\n",
        "        \"Portabilidade entre plataformas\",\n",
        "\n",
        "        \"Suporte a programação orientada a objetos\",\n",
        "\n",
        "        \"Grande comunidade de desenvolvedores\",\n",
        "\n",
        "    ]\n",
        "\n",
        "    for vantagem in vantagens:\n",
        "\n",
        "        print(vantagem)\n",
        "\n",
        "\n",
        "\n",
        "print(\"Bem-vindo ao Menu de Operações!\")\n",
        "\n",
        "print(\"1) Somar\")\n",
        "\n",
        "print(\"2) Subtrair\")\n",
        "\n",
        "print(\"3) Dividir\")\n",
        "\n",
        "print(\"4) Multiplicar\")\n",
        "\n",
        "print(\"5) Listar vantagens do Python\")\n",
        "\n",
        "\n",
        "\n",
        "escolha = input(\"Escolha uma opção (1-5): \")\n",
        "\n",
        "\n",
        "\n",
        "if escolha == \"1\":\n",
        "\n",
        "    num1 = float(input(\"Digite o primeiro número: \"))\n",
        "\n",
        "    num2 = float(input(\"Digite o segundo número: \"))\n",
        "\n",
        "    resultado = somar(num1, num2)\n",
        "\n",
        "    print(\"Resultado: \", resultado)\n",
        "\n",
        "elif escolha == \"2\":\n",
        "\n",
        "    num1 = float(input(\"Digite o primeiro número: \"))\n",
        "\n",
        "    num2 = float(input(\"Digite o segundo número: \"))\n",
        "\n",
        "    resultado = subtrair(num1, num2)\n",
        "\n",
        "    print(\"Resultado: \", resultado)\n",
        "\n",
        "elif escolha == \"3\":\n",
        "\n",
        "    num1 = float(input(\"Digite o primeiro número: \"))\n",
        "\n",
        "    num2 = float(input(\"Digite o segundo número: \"))\n",
        "\n",
        "    resultado = dividir(num1, num2)\n",
        "\n",
        "    print(\"Resultado: \", resultado)\n",
        "\n",
        "elif escolha == \"4\":\n",
        "\n",
        "    num1 = float(input(\"Digite o primeiro número: \"))\n",
        "\n",
        "    num2 = float(input(\"Digite o segundo número: \"))\n",
        "\n",
        "    resultado = multiplicar(num1, num2)\n",
        "\n",
        "    print(\"Resultado: \", resultado)\n",
        "\n",
        "elif escolha == \"5\":\n",
        "\n",
        "    print(\"Vantagens do Python:\")\n",
        "\n",
        "    listar()\n",
        "\n",
        "else:\n",
        "\n",
        "    print(\"Opção inválida.\")\n",
        "\n"
      ],
      "metadata": {
        "colab": {
          "base_uri": "https://localhost:8080/"
        },
        "id": "OiK3K53rii2h",
        "outputId": "8bcd02cd-ef44-43af-cc8b-25c1c0001e06"
      },
      "execution_count": 1,
      "outputs": [
        {
          "output_type": "stream",
          "name": "stdout",
          "text": [
            "Bem-vindo ao Menu de Operações!\n",
            "1) Somar\n",
            "2) Subtrair\n",
            "3) Dividir\n",
            "4) Multiplicar\n",
            "5) Listar vantagens do Python\n",
            "Escolha uma opção (1-5): 2\n",
            "Digite o primeiro número: 2\n",
            "Digite o segundo número: 10\n",
            "Resultado:  -8.0\n"
          ]
        }
      ]
    }
  ]
}